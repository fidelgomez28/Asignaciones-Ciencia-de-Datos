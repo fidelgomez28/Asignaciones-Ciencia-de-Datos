{
 "cells": [
  {
   "cell_type": "markdown",
   "id": "2be0e793-e669-4803-98b8-a1f52cc08681",
   "metadata": {},
   "source": [
    "# Data Science Tools and Ecosystem"
   ]
  },
  {
   "cell_type": "markdown",
   "id": "144ed96d-e794-4492-9ef2-fd3b9f8f7aa0",
   "metadata": {},
   "source": [
    "# En este cuaderno, se resumen las herramientas y ecosistemas de ciencia de datos"
   ]
  },
  {
   "cell_type": "markdown",
   "id": "e9fccb61-30ac-4753-aee3-3a0792a3b4d4",
   "metadata": {},
   "source": [
    "# **Objetivos:**\n",
    "* Python\n",
    "* R\n",
    "* Julia\n",
    "* Cuadernos Jupyter\n",
    "* Github"
   ]
  },
  {
   "cell_type": "markdown",
   "id": "df7b35ce-8825-49b6-95e2-94c19b111c39",
   "metadata": {},
   "source": [
    "# Algunos de los lenguajes populares que utilizan los científicos de datos son:\n",
    "1. Python\n",
    "2. R\n",
    "3. Julia"
   ]
  },
  {
   "cell_type": "markdown",
   "id": "540acbd8-4249-4aaf-b31f-eca747018ee5",
   "metadata": {
    "jp-MarkdownHeadingCollapsed": true
   },
   "source": [
    "# Algunas de las bibliotecas comúnmente utilizadas por los científicos de datos incluyen:\n",
    "1. Pandas\n",
    "2. Numpy\n",
    "3. ggplot"
   ]
  },
  {
   "cell_type": "markdown",
   "id": "ee08c5ac-1518-4ee8-a202-1a19f7729145",
   "metadata": {},
   "source": [
    "# Herramientas de Ciencia de Datos de código abierto:\n",
    "|Herramientas de Ciencias de Datos|\n",
    "|---------------------------------|\n",
    "|Cuadernos Jupyter|\n",
    "|Github|\n",
    "|R studio|"
   ]
  },
  {
   "cell_type": "markdown",
   "id": "a285b88a-749b-4ab3-885d-2de4a0e64b14",
   "metadata": {},
   "source": [
    "### A continuación, se presentan algunos ejemplos de evaluación de expresiones aritméticas en Python:\n",
    "Suma:2+3\n",
    "Resta:25-8\n",
    "Multiplicación: 3*2\n",
    "División: 25/5\n",
    "Potencias: 4^2\n"
   ]
  },
  {
   "cell_type": "code",
   "execution_count": 1,
   "id": "62bc082c-283b-4894-9158-5ee649acb4c2",
   "metadata": {},
   "outputs": [
    {
     "data": {
      "text/plain": [
       "17"
      ]
     },
     "execution_count": 1,
     "metadata": {},
     "output_type": "execute_result"
    }
   ],
   "source": [
    "# Esta es una expresión aritmética simple para multiplicar y luego sumar enteros\n",
    "(3*4)+5"
   ]
  },
  {
   "cell_type": "code",
   "execution_count": 2,
   "id": "d39d5eff-0f97-4ef4-af61-1274f04d3947",
   "metadata": {},
   "outputs": [
    {
     "data": {
      "text/plain": [
       "3.3333333333333335"
      ]
     },
     "execution_count": 2,
     "metadata": {},
     "output_type": "execute_result"
    }
   ],
   "source": [
    "# Esto convertirá 200 minutos a horas dividiendo por 60\n",
    "200/60"
   ]
  },
  {
   "cell_type": "markdown",
   "id": "106d6e03-4107-4311-9415-0c3811d66edc",
   "metadata": {},
   "source": [
    "# Autor\n",
    "Fidel Gómez Barrios"
   ]
  },
  {
   "cell_type": "code",
   "execution_count": null,
   "id": "29be24ea-abae-4167-8818-8b4037600238",
   "metadata": {},
   "outputs": [],
   "source": []
  }
 ],
 "metadata": {
  "kernelspec": {
   "display_name": "Python [conda env:misegundoentorno]",
   "language": "python",
   "name": "conda-env-misegundoentorno-py"
  },
  "language_info": {
   "codemirror_mode": {
    "name": "ipython",
    "version": 3
   },
   "file_extension": ".py",
   "mimetype": "text/x-python",
   "name": "python",
   "nbconvert_exporter": "python",
   "pygments_lexer": "ipython3",
   "version": "3.12.11"
  }
 },
 "nbformat": 4,
 "nbformat_minor": 5
}
