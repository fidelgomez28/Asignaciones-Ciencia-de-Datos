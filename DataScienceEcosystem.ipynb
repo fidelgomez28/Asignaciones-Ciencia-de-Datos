{
 "cells": [
  {
   "cell_type": "markdown",
   "id": "2be0e793-e669-4803-98b8-a1f52cc08681",
   "metadata": {},
   "source": [
    "##### Ejercicio 2: Crear una celda de markdown con el título del cuaderno\n",
    "\n",
    "Crea una celda de markdown con el título Data Science Tools and Ecosystem utilizando el estilo de encabezado H1.\n",
    "\n",
    "Toma una captura de pantalla de la celda de markdown y nómbrala como 2-title.png\n",
    "# Data Science Tools and Ecosystem"
   ]
  },
  {
   "cell_type": "markdown",
   "id": "144ed96d-e794-4492-9ef2-fd3b9f8f7aa0",
   "metadata": {},
   "source": [
    "#### Ejercicio 3 - Crear una celda de markdown para una introducción\n",
    "\n",
    "Escribe una frase introductoria sobre el cuaderno como la siguiente:\n",
    "\n",
    "En este cuaderno, se resumen las herramientas y ecosistemas de ciencia de datos.\n",
    "\n",
    "Toma una captura de pantalla de la celda de markdown y nómbrala como 3-intro.png\n",
    "# En este cuaderno, se resumen las herramientas y ecosistemas de ciencia de datos"
   ]
  },
  {
   "cell_type": "markdown",
   "id": "e9fccb61-30ac-4753-aee3-3a0792a3b4d4",
   "metadata": {},
   "source": [
    "#### Ejercicio 10 - Insertar una celda de markdown para listar Objetivos\n",
    "\n",
    "Debajo de la celda de introducción creada en el Ejercicio 3, inserta una nueva celda de markdown para listar los objetivos que cubre este cuaderno (es decir, algunos de los puntos clave del curso). En esta nueva celda comienza con una línea introductoria titulada: Objetivos: en fuente negrita. Luego, utilizando una lista desordenada (viñetas), indica de 3 a 5 elementos cubiertos en este cuaderno, como Listar lenguajes populares para Ciencia de Datos.\n",
    "\n",
    "Toma una captura de pantalla de la celda de markdown y nómbrala como 10-objectives.png\n",
    "# **Objetivos:**\n",
    "* Python\n",
    "* R\n",
    "* Julia\n",
    "* Cuadernos Jupyter\n",
    "* Github"
   ]
  },
  {
   "cell_type": "markdown",
   "id": "df7b35ce-8825-49b6-95e2-94c19b111c39",
   "metadata": {},
   "source": [
    "#### Ejercicio 4 - Crear una celda de markdown para listar lenguajes de ciencia de datos\n",
    "\n",
    "Comienza la celda con una línea de visión general como:\n",
    "\n",
    "Algunos de los lenguajes populares que utilizan los científicos de datos son:\n",
    "Luego crea una lista ordenada (es decir, numerada) enumerando 3 (o más) lenguajes comúnmente utilizados para la ciencia de datos.\n",
    "\n",
    "Toma una captura de pantalla de la celda de markdown y nómbrala como 4-dslanguages.png\n",
    "# Algunos de los lenguajes populares que utilizan los científicos de datos son:\n",
    "1. Python\n",
    "2. R\n",
    "3. Julia"
   ]
  },
  {
   "cell_type": "markdown",
   "id": "540acbd8-4249-4aaf-b31f-eca747018ee5",
   "metadata": {
    "jp-MarkdownHeadingCollapsed": true
   },
   "source": [
    "#### Ejercicio 5 - Crear una celda de markdown para listar bibliotecas de ciencia de datos\n",
    "\n",
    "Agrega una línea de visión general a la celda como:\n",
    "\n",
    "Algunas de las bibliotecas comúnmente utilizadas por los científicos de datos incluyen:\n",
    "Debajo de esta línea, agrega una lista ordenada enumerando 3 (o más) bibliotecas comúnmente utilizadas en ciencia de datos.\n",
    "\n",
    "Toma una captura de pantalla de la celda de markdown y nómbrala como 5-dslibraries.png\n",
    "\n",
    "# Algunas de las bibliotecas comúnmente utilizadas por los científicos de datos incluyen:\n",
    "1. Pandas\n",
    "2. Numpy\n",
    "3. ggplot"
   ]
  },
  {
   "cell_type": "markdown",
   "id": "ee08c5ac-1518-4ee8-a202-1a19f7729145",
   "metadata": {},
   "source": [
    "#### Ejercicio 6 - Crear una celda de markdown con una tabla de herramientas de ciencia de datos\n",
    "\n",
    "Crea una tabla de una sola columna en esta celda con la primera fila conteniendo el encabezado Herramientas de Ciencia de Datos. Las siguientes tres filas de la tabla deben indicar tres herramientas de código abierto del entorno de desarrollo utilizadas en ciencia de datos.\n",
    "\n",
    "Toma una captura de pantalla de la celda de markdown y nómbrala como 6-dstools.png\n",
    "\n",
    "Sugerencia: Consulta Laboratorio: Usando Markdown en Jupyter Notebooks para crear una tabla.\n",
    "# Herramientas de Ciencia de Datos de código abierto:\n",
    "|Herramientas de Ciencias de Datos|\n",
    "|---------------------------------|\n",
    "|Cuadernos Jupyter|\n",
    "|Github|\n",
    "|R studio|"
   ]
  },
  {
   "cell_type": "markdown",
   "id": "a285b88a-749b-4ab3-885d-2de4a0e64b14",
   "metadata": {},
   "source": [
    "#### Ejercicio 7 - Crear una celda de markdown introduciendo ejemplos de expresiones aritméticas\n",
    "\n",
    "Agrega una línea en esta celda con un encabezado de estilo H3 con texto como:\n",
    "\n",
    "A continuación, se presentan algunos ejemplos de evaluación de expresiones aritméticas en Python.\n",
    "\n",
    "Toma una captura de pantalla de la celda de markdown y nómbrala como 7-introarithmetic.png\n",
    "### A continuación, se presentan algunos ejemplos de evaluación de expresiones aritméticas en Python:\n",
    "Suma:2+3\n",
    "Resta:25-8\n",
    "Multiplicación: 3*2\n",
    "División: 25/5\n",
    "Potencias: 4^2\n"
   ]
  },
  {
   "cell_type": "code",
   "execution_count": 5,
   "id": "62bc082c-283b-4894-9158-5ee649acb4c2",
   "metadata": {},
   "outputs": [
    {
     "data": {
      "text/plain": [
       "17"
      ]
     },
     "execution_count": 5,
     "metadata": {},
     "output_type": "execute_result"
    }
   ],
   "source": [
    "# Ejercicio 8 - Crear una celda de código para multiplicar y sumar números\n",
    "# En esta celda de código evalúa la expresión (3*4)+5.\n",
    "# Inserta una línea de comentario antes de la expresión para explicar la operación, por ejemplo, Esta es una expresión aritmética simple para multiplicar y luego sumar enteros.\n",
    "# Luego ejecuta la celda para asegurarte de que la expresión devuelva la salida esperada de 17.\n",
    "\n",
    "# Toma una captura de pantalla de la celda de código con la salida y nómbrala como 8-multiplyandaddintegers.png\n",
    "\n",
    "# Esta es una expresión aritmética simple para multiplicar y luego sumar enteros\n",
    "(3*4)+5"
   ]
  },
  {
   "cell_type": "code",
   "execution_count": 7,
   "id": "d39d5eff-0f97-4ef4-af61-1274f04d3947",
   "metadata": {},
   "outputs": [
    {
     "data": {
      "text/plain": [
       "3.3333333333333335"
      ]
     },
     "execution_count": 7,
     "metadata": {},
     "output_type": "execute_result"
    }
   ],
   "source": [
    "# Ejercicio 9 - Crear una celda de código para convertir minutos a horas\n",
    "\n",
    "# En esta celda de código escribe una expresión que convierta 200 minutos en horas.\n",
    "# Inserta una línea de comentario antes de la expresión para explicar la operación, por ejemplo, Esto convertirá 200 minutos a horas dividiendo por 60.\n",
    "# Ejecuta la celda para evaluar la expresión.\n",
    "\n",
    "# Toma una captura de pantalla de la celda de código con la salida y nómbrala como 9-hourstominutes.png\n",
    "# Esto convertirá 200 minutos a horas dividiendo por 60\n",
    "200/60"
   ]
  },
  {
   "cell_type": "markdown",
   "id": "106d6e03-4107-4311-9415-0c3811d66edc",
   "metadata": {},
   "source": [
    "#### Ejercicio 11 - Crear una celda de markdown para indicar el nombre del autor\n",
    "\n",
    "En esta celda de markdown incluye el siguiente texto Autor en encabezado de estilo H2. Incluye tu nombre como texto regular debajo de la palabra Autor.\n",
    "\n",
    "Toma una captura de pantalla de la celda de markdown y nómbrala como 11-authordetails.png\n",
    "## Autor\n",
    "Fidel Gómez Barrios"
   ]
  }
 ],
 "metadata": {
  "kernelspec": {
   "display_name": "Python [conda env:misegundoentorno]",
   "language": "python",
   "name": "conda-env-misegundoentorno-py"
  },
  "language_info": {
   "codemirror_mode": {
    "name": "ipython",
    "version": 3
   },
   "file_extension": ".py",
   "mimetype": "text/x-python",
   "name": "python",
   "nbconvert_exporter": "python",
   "pygments_lexer": "ipython3",
   "version": "3.12.11"
  }
 },
 "nbformat": 4,
 "nbformat_minor": 5
}
